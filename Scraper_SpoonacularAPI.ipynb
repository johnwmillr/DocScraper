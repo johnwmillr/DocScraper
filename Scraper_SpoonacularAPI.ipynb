{
 "cells": [
  {
   "cell_type": "markdown",
   "metadata": {},
   "source": [
    "---\n",
    "# Automatically generate new Python files from the Spoonacular API info page\n",
    "---"
   ]
  },
  {
   "cell_type": "code",
   "execution_count": 1,
   "metadata": {},
   "outputs": [],
   "source": [
    "import time\n",
    "import json\n",
    "import re\n",
    "from selenium import webdriver\n",
    "from selenium.webdriver.common.keys import Keys"
   ]
  },
  {
   "cell_type": "markdown",
   "metadata": {},
   "source": [
    "## Start the Selenium browser (Chrome)"
   ]
  },
  {
   "cell_type": "code",
   "execution_count": 2,
   "metadata": {},
   "outputs": [
    {
     "name": "stdout",
     "output_type": "stream",
     "text": [
      "Waiting for endpoints to load...\n"
     ]
    }
   ],
   "source": [
    "# Start a new instance of Chrome\n",
    "chrome_options = webdriver.ChromeOptions()\n",
    "chrome_options.add_argument('--no-sandbox')\n",
    "browser = webdriver.Chrome('/usr/local/bin/chromedriver', chrome_options=chrome_options)\n",
    "url = \"https://spoonacular.com/food-api\"\n",
    "browser.get(url)\n",
    "time.sleep(1)\n",
    "\n",
    "# Scroll down to list of endpoints (necessary?)\n",
    "elem = browser.find_element_by_tag_name(\"body\")\n",
    "no_of_pagedowns = 8\n",
    "while no_of_pagedowns:\n",
    "    elem.send_keys(Keys.PAGE_DOWN)\n",
    "    time.sleep(2)\n",
    "    no_of_pagedowns-=1\n",
    "    \n",
    "print(\"Waiting for endpoints to load...\")\n",
    "time.sleep(5)"
   ]
  },
  {
   "cell_type": "markdown",
   "metadata": {},
   "source": [
    "## Scrape documentation for each endpoint"
   ]
  },
  {
   "cell_type": "code",
   "execution_count": 167,
   "metadata": {
    "scrolled": false
   },
   "outputs": [],
   "source": [
    "def getEndpointInfo(save=True, filename='spoonacular_api_info'):\n",
    "    endpoints = []\n",
    "    m,p = 'mashape-', 'parameter-'\n",
    "    regex = re.compile(r'required|optional', re.VERBOSE)    \n",
    "    doc = browser.find_element_by_class_name(m+'doc')\n",
    "    groups = doc.find_elements_by_class_name(m+'group')\n",
    "    num_eps = len(doc.find_elements_by_class_name(m+'endpoint'))\n",
    "\n",
    "    n = 0\n",
    "    for group in groups:\n",
    "        print(10*'-' + group.find_element_by_class_name(m+'group-header').text + 10*'-')\n",
    "        for ep in group.find_elements_by_class_name(m+'endpoint'):            \n",
    "            if n!= 36: # Kludge for bug on Spoonacular site\n",
    "                ep.click()  # Must click on endpoint to expand its documentation\n",
    "            time.sleep(0.5)\n",
    "            print('**'+ep.find_element_by_class_name(m+'endpoint-name').text+'**')\n",
    "                                                \n",
    "            # Get info on the endpoint name and route\n",
    "            endpoint = {}\n",
    "            endpoint['name'] = ep.find_element_by_class_name(m+'endpoint-name').text\n",
    "            print('-'*30 + '\\n({n}/{t}) \"{name}\"'.format(name=endpoint['name'], n=n+1, t=num_eps))\n",
    "            content = ep.find_element_by_class_name(m+'endpoint-content')\n",
    "            route = content.find_element_by_class_name(m+'endpoint-route').text.split(' /')\n",
    "            endpoint['method'] = route[0]\n",
    "            endpoint['uri'] = route[1]\n",
    "            endpoint['category'] = group.find_element_by_class_name(m+'group-header').text\n",
    "            endpoint['description'] = ep.find_element_by_tag_name('p').text\n",
    "            time.sleep(1.5)            \n",
    "            \n",
    "            # Get parameter info for the endpoint\n",
    "            parameters = {'route_params': [], 'params': []}\n",
    "            assign_to_route_params = True        \n",
    "            for div in content.find_elements_by_tag_name('div'):\n",
    "                if div.get_attribute('class') == 'mashape-parameter-header':\n",
    "                    print(div.text)\n",
    "                    if div.text == 'Parameters':\n",
    "                        assign_to_route_params = False\n",
    "\n",
    "                if div.get_attribute('class') == 'mashape-parameter':                \n",
    "                    parameter = {}    \n",
    "                    if div.text != '':\n",
    "                        for s in div.find_elements_by_tag_name('span'):\n",
    "                            var = s.get_attribute('class').split(m+p,1)[-1].lower()\n",
    "                            if 'condition' in var:\n",
    "                                var = 'condition'\n",
    "                                val = regex.search(s.text).group()\n",
    "                            elif 'example' in var:\n",
    "                                val = s.text.split('Example:',1)[-1]\n",
    "                            else:\n",
    "                                val = s.text\n",
    "                            parameter[var] = val\n",
    "                        print(\"\\t{name}: {type}\".format(name=parameter['name'], type=parameter['type']))\n",
    "                    else:\n",
    "                        print(\"\\t\\t***MISSING PARAMETER***\")\n",
    "                        parameter = {'MISSING': True}                \n",
    "\n",
    "                    if assign_to_route_params:\n",
    "                        parameters['route_params'].append(parameter)\n",
    "                    else:\n",
    "                        parameters['params'].append(parameter)\n",
    "                        \n",
    "                endpoint['parameters'] = parameters\n",
    "\n",
    "                # Get info on example endpoint response\n",
    "                try:\n",
    "                    endpoint['response'] = content.find_element_by_class_name(m+'example').text\n",
    "                except:\n",
    "                    endpoint['response'] = None                                    \n",
    "\n",
    "            # Add info on current endpoint to list of all endpoints            \n",
    "            endpoints.append(endpoint)\n",
    "            n += 1\n",
    "            \n",
    "    if save:\n",
    "        with open(filename + '.json', 'w') as outfile:\n",
    "            json.dump(endpoints, outfile)                \n",
    "                \n",
    "    return endpoints                               \n",
    "                                    "
   ]
  },
  {
   "cell_type": "code",
   "execution_count": 151,
   "metadata": {},
   "outputs": [
    {
     "data": {
      "text/plain": [
       "{'route_params': [{'name': 'includeNutrition',\n",
       "   'type': 'BOOLEAN',\n",
       "   'condition': 'optional',\n",
       "   'description': 'Whether nutrition data should be added to correctly parsed ingredients.',\n",
       "   'example': 'false'}],\n",
       " 'params': [{'name': 'ingredientList',\n",
       "   'type': 'STRING',\n",
       "   'condition': 'required',\n",
       "   'description': 'The ingredient list of the recipe, one ingredient per line.',\n",
       "   'example': '3 oz pork shoulder'},\n",
       "  {'name': 'servings',\n",
       "   'type': 'NUMBER',\n",
       "   'condition': 'required',\n",
       "   'description': 'The number of servings that you can make from the ingredients.',\n",
       "   'example': '2'}]}"
      ]
     },
     "execution_count": 151,
     "metadata": {},
     "output_type": "execute_result"
    }
   ],
   "source": [
    "info[-1]['parameters']"
   ]
  },
  {
   "cell_type": "code",
   "execution_count": 156,
   "metadata": {},
   "outputs": [
    {
     "name": "stdout",
     "output_type": "stream",
     "text": [
      "----------Extract----------\n",
      "**Analyze a Recipe Search Query**\n",
      "------------------------------\n",
      "(1/53) \"Analyze a Recipe Search Query\"\n",
      "Route Parameters\n",
      "\tq: STRING\n",
      "**Analyze Recipe Instructions**\n",
      "------------------------------\n",
      "(2/53) \"Analyze Recipe Instructions\"\n",
      "Parameters\n",
      "\tinstructions: STRING\n",
      "**Detect Food in Text**\n",
      "------------------------------\n",
      "(3/53) \"Detect Food in Text\"\n",
      "Parameters\n",
      "\ttext: STRING\n",
      "**Extract Recipe from Website**\n",
      "------------------------------\n",
      "(4/53) \"Extract Recipe from Website\"\n",
      "Route Parameters\n",
      "\tforceExtraction: BOOLEAN\n",
      "\turl: STRING\n",
      "**Parse Ingredients**\n",
      "------------------------------\n",
      "(5/53) \"Parse Ingredients\"\n",
      "Route Parameters\n",
      "\tincludeNutrition: BOOLEAN\n",
      "Parameters\n",
      "\tingredientList: STRING\n",
      "\tservings: NUMBER\n"
     ]
    }
   ],
   "source": [
    "info = getEndpointInfo()"
   ]
  },
  {
   "cell_type": "code",
   "execution_count": 44,
   "metadata": {},
   "outputs": [],
   "source": [
    "def getEndpointInfo(save=True):\n",
    "    endpoints = []\n",
    "    m,p = 'mashape-', 'parameter-'\n",
    "    regex = re.compile(r'required|optional', re.VERBOSE)    \n",
    "    doc = browser.find_element_by_class_name(m+'doc')\n",
    "    groups = doc.find_elements_by_class_name(m+'group')\n",
    "    \n",
    "    group_names, list_of_endpoints = [],[]\n",
    "    for group in groups:\n",
    "        group_endpoints = group.find_elements_by_class_name(m+'endpoint')\n",
    "        group_names += len(group_endpoints)*[group.find_element_by_class_name(m+'group-header').text]\n",
    "        list_of_endpoints += group_endpoints\n",
    "                        \n",
    "    del(group_names[36])\n",
    "    del(list_of_endpoints[36]) # Bad element on Spoonacular site\n",
    "    num_eps = len(list_of_endpoints)\n",
    "    print(\"Found {num} endpoints to scrape.\".format(num=num_eps))\n",
    "    \n",
    "    n = 0\n",
    "    for ep, group_name in zip(list_of_endpoints[:5], group_names[:5]):\n",
    "        ep.click()\n",
    "        time.sleep(0.5)\n",
    "        endpoint = {}\n",
    "        \n",
    "        # Get info on the endpoint name and route\n",
    "        endpoint['name'] = ep.find_element_by_class_name(m+'endpoint-name').text\n",
    "        print('-'*30 + '\\n({n}/{t}) \"{name}\"'.format(name=endpoint['name'], n=n+1, t=num_eps))\n",
    "        content = ep.find_element_by_class_name(m+'endpoint-content')\n",
    "        route = content.find_element_by_class_name(m+'endpoint-route').text.split(' /')\n",
    "        endpoint['method'] = route[0]\n",
    "        endpoint['uri'] = route[1]\n",
    "        endpoint['category'] = group_name\n",
    "        endpoint['description'] = ep.find_element_by_tag_name('p').text\n",
    "        time.sleep(2)\n",
    "        \n",
    "        # Get info on the endpoint parameters\n",
    "        parameters = []\n",
    "        print(\"Params:\")\n",
    "        params = content.find_elements_by_class_name(m+'parameter')\n",
    "        for param in params:\n",
    "            parameter = {}    \n",
    "            if param.text != '':\n",
    "                for s in param.find_elements_by_tag_name('span'):\n",
    "                    var = s.get_attribute('class').split(m+p,1)[-1].lower()\n",
    "                    if 'condition' in var:\n",
    "                        var = 'condition'\n",
    "                        val = regex.search(s.text).group()\n",
    "                    elif 'example' in var:\n",
    "                        val = s.text.split('Example:',1)[-1]\n",
    "                    else:\n",
    "                        val = s.text\n",
    "                    parameter[var] = val\n",
    "                print(\"\\t{name}: {type}\".format(name=parameter['name'], type=parameter['type']))\n",
    "            else:\n",
    "                print(\"\\t\\t***MISSING PARAMETER***\")\n",
    "                parameter = {'MISSING': True}\n",
    "            parameters.append(parameter)            \n",
    "        endpoint['parameters'] = parameters\n",
    "        \n",
    "        # Get info on example endpoint response\n",
    "        try:\n",
    "            endpoint['response'] = content.find_element_by_class_name(m+'example').text\n",
    "        except:\n",
    "            endpoint['response'] = None\n",
    "            \n",
    "        # Add info on current endpoint to list of all endpoints            \n",
    "        endpoints.append(endpoint)\n",
    "                \n",
    "        if save and ((n)%10==0 or n+1==len(list_of_endpoints)):\n",
    "            filename = 'spoonacular_api_names_and_endpoints'\n",
    "            with open(filename + '.json', 'w') as outfile:\n",
    "                json.dump(endpoints, outfile)                \n",
    "                \n",
    "        n+=1\n",
    "\n",
    "    return endpoints                   "
   ]
  },
  {
   "cell_type": "code",
   "execution_count": 60,
   "metadata": {},
   "outputs": [],
   "source": [
    "all_info = json.load(open('spoonacular_api_names_and_endpoints.json', 'rb'))"
   ]
  },
  {
   "cell_type": "code",
   "execution_count": 45,
   "metadata": {
    "scrolled": false
   },
   "outputs": [
    {
     "name": "stdout",
     "output_type": "stream",
     "text": [
      "Found 52 endpoints to scrape.\n",
      "------------------------------\n",
      "(1/52) \"Analyze a Recipe Search Query\"\n",
      "Params:\n",
      "\tq: STRING\n",
      "------------------------------\n",
      "(2/52) \"Analyze Recipe Instructions\"\n",
      "Params:\n",
      "\tinstructions: STRING\n",
      "------------------------------\n",
      "(3/52) \"Detect Food in Text\"\n",
      "Params:\n",
      "\ttext: STRING\n",
      "------------------------------\n",
      "(4/52) \"Extract Recipe from Website\"\n",
      "Params:\n",
      "\tforceExtraction: BOOLEAN\n",
      "\turl: STRING\n",
      "------------------------------\n",
      "(5/52) \"Parse Ingredients\"\n",
      "Params:\n",
      "\tincludeNutrition: BOOLEAN\n",
      "\tingredientList: STRING\n",
      "\tservings: NUMBER\n"
     ]
    },
    {
     "data": {
      "text/plain": [
       "{'name': 'Parse Ingredients',\n",
       " 'method': 'POST',\n",
       " 'uri': 'recipes/parseIngredients',\n",
       " 'category': 'Extract',\n",
       " 'description': 'Extract an ingredient from plain text.',\n",
       " 'parameters': [{'name': 'includeNutrition',\n",
       "   'type': 'BOOLEAN',\n",
       "   'condition': 'optional',\n",
       "   'description': 'Whether nutrition data should be added to correctly parsed ingredients.',\n",
       "   'example': 'false'},\n",
       "  {'name': 'ingredientList',\n",
       "   'type': 'STRING',\n",
       "   'condition': 'required',\n",
       "   'description': 'The ingredient list of the recipe, one ingredient per line.',\n",
       "   'example': '3 oz pork shoulder'},\n",
       "  {'name': 'servings',\n",
       "   'type': 'NUMBER',\n",
       "   'condition': 'required',\n",
       "   'description': 'The number of servings that you can make from the ingredients.',\n",
       "   'example': '2'}],\n",
       " 'response': '[{\"id\":10072,\"original\":\"3 oz pork shoulder\",\"name\":\"pork shoulder\",\"amount\":3.0,\"unitShort\":\"oz\",\"unitLong\":\"ounces\",\"aisle\":\"Meat\",\"image\":\"https://spoonacular.com/cdn/ingredients_100x100/pork-shoulder.jpg\",\"meta\":[]}]'}"
      ]
     },
     "execution_count": 45,
     "metadata": {},
     "output_type": "execute_result"
    }
   ],
   "source": [
    "all_info = getEndpointInfo()\n",
    "all_info[-1]"
   ]
  },
  {
   "cell_type": "markdown",
   "metadata": {},
   "source": [
    "# Generate the Python wrapper from scraped API documentation"
   ]
  },
  {
   "cell_type": "code",
   "execution_count": 63,
   "metadata": {},
   "outputs": [
    {
     "data": {
      "text/plain": [
       "{'name': 'Analyze a Recipe Search Query',\n",
       " 'method': 'GET',\n",
       " 'uri': 'recipes/queries/analyze',\n",
       " 'parameters': [{'name': 'q',\n",
       "   'type': 'STRING',\n",
       "   'condition': 'required',\n",
       "   'description': 'The recipe search query.',\n",
       "   'example': 'salmon with fusilli and no nuts'}],\n",
       " 'response': '{\"ingredients\":[{\"name\":\"fusilli\",\"include\":true,\"image\":\"fusilli.jpg\"},{\"name\":\"nuts mixed\",\"include\":false,\"image\":\"nuts-mixed.jpg\"}],\"dishes\":[{\"name\":\"salmon\",\"image\":\"https://spoonacular.com/cdn/ingredients_100x100/salmon.jpg\"}],\"modifiers\":[],\"cuisines\":[]}'}"
      ]
     },
     "execution_count": 63,
     "metadata": {},
     "output_type": "execute_result"
    }
   ],
   "source": [
    "all_info[0]"
   ]
  },
  {
   "cell_type": "code",
   "execution_count": 70,
   "metadata": {},
   "outputs": [
    {
     "data": {
      "text/plain": [
       "{'name': 'number',\n",
       " 'type': 'NUMBER',\n",
       " 'condition': 'optional',\n",
       " 'description': 'The number of results between [1,25].',\n",
       " 'example': '10'}"
      ]
     },
     "execution_count": 70,
     "metadata": {},
     "output_type": "execute_result"
    }
   ],
   "source": [
    "all_info[6]['parameters'][0]"
   ]
  },
  {
   "cell_type": "code",
   "execution_count": 91,
   "metadata": {},
   "outputs": [],
   "source": [
    "def formatMethodName(name):\n",
    "    return name.lower().replace(' ','_')    "
   ]
  },
  {
   "cell_type": "code",
   "execution_count": 72,
   "metadata": {},
   "outputs": [
    {
     "data": {
      "text/plain": [
       "'Analyze a Recipe Search Query'"
      ]
     },
     "execution_count": 72,
     "metadata": {},
     "output_type": "execute_result"
    }
   ],
   "source": [
    "name = all_info[0]['name']\n",
    "name"
   ]
  },
  {
   "cell_type": "code",
   "execution_count": 103,
   "metadata": {},
   "outputs": [],
   "source": [
    "def parse_ingredients(self, ingredientList, servings=1, includeNutrition=False):\n",
    "    \"\"\" Extract an ingredient from plain text\n",
    "        https://market.mashape.com/spoonacular/recipe-food-nutrition#parse-ingredients\n",
    "    \"\"\"\n",
    "    endpoint = \"recipes/parseIngredients\"\n",
    "    query = {\"ingredientList\": ingredientList, \"servings\": servings}\n",
    "    params = {\"includeNutrition\": includeNutrition}\n",
    "    return self._make_request(endpoint, method='POST', query_=query, params_=params)\n"
   ]
  },
  {
   "cell_type": "code",
   "execution_count": 215,
   "metadata": {},
   "outputs": [],
   "source": [
    "def formatArgList(varNames):\n",
    "    if len(varNames) == 0:\n",
    "        return \"self\"\n",
    "    return \"self, \" + \", \".join(varNames)\n",
    "\n",
    "def writeEndpointMethod(name, docstr, argList, method, uri, indent=0):\n",
    "    txt = 'def {name}({args}):\\n'.format(name=formatMethodName(name), args=formatArgList(argList))\n",
    "    txt += '\\t\"\"\" {doc}\\n'.format(doc=docstr)\n",
    "    txt += '\\t\\thttps://market.mashape.com/spoonacular/recipe-food-nutrition#{name}\\n'.format(name=name.lower().replace(' ','-'))\n",
    "    txt += '\\t\"\"\"\\n'\n",
    "    txt += '\\tendpoint = \"{uri}\"\\n'.format(uri=uri)\n",
    "    txt += '\\tquery = {{}}\\n'\n",
    "    txt += '\\tparams = {{}}\\n'\n",
    "    txt += '\\treturn self._make_request(endpoint, method=\"{m}\", query_=query)'.format(m=method)\n",
    "    \n",
    "    # Indent the method (optional) and replace tabs with spaces\n",
    "    final = \"\"\n",
    "    for line in txt.split('\\n'):\n",
    "        final += \"\\t\"*indent + line + '\\n'\n",
    "    final = final.replace('\\t', 4*' ')\n",
    "    return final"
   ]
  },
  {
   "cell_type": "code",
   "execution_count": 214,
   "metadata": {},
   "outputs": [
    {
     "name": "stdout",
     "output_type": "stream",
     "text": [
      "def extract_recipe_from_website(self, forceExtraction, url):\n",
      "    \"\"\" Here is what the method does\n",
      "        https://market.mashape.com/spoonacular/recipe-food-nutrition#extract-recipe-from-website\n",
      "    \"\"\"\n",
      "    endpoint = \"recipes/extract\"\n",
      "    query = {{}}\n",
      "    params = {{}}\n",
      "    return self._make_request(endpoint, method=\"GET\", query_=query)\n",
      "\n"
     ]
    },
    {
     "data": {
      "text/plain": [
       "'def extract_recipe_from_website(self, forceExtraction, url):\\n    \"\"\" Here is what the method does\\n        https://market.mashape.com/spoonacular/recipe-food-nutrition#extract-recipe-from-website\\n    \"\"\"\\n    endpoint = \"recipes/extract\"\\n    query = {{}}\\n    params = {{}}\\n    return self._make_request(endpoint, method=\"GET\", query_=query)\\n'"
      ]
     },
     "execution_count": 214,
     "metadata": {},
     "output_type": "execute_result"
    }
   ],
   "source": [
    "n = 3\n",
    "m = writeEndpointMethod(all_info[n]['name'],\n",
    "                        \"Here is what the method does\",\n",
    "                        [p['name'] for p in all_info[n]['parameters']],\n",
    "                        all_info[n]['method'],\n",
    "                        all_info[n]['uri'],\n",
    "                        indent=0)\n",
    "print(m)\n",
    "m"
   ]
  },
  {
   "cell_type": "code",
   "execution_count": 180,
   "metadata": {},
   "outputs": [
    {
     "data": {
      "text/plain": [
       "{'name': 'Extract Recipe from Website',\n",
       " 'method': 'GET',\n",
       " 'uri': 'recipes/extract',\n",
       " 'parameters': [{'name': 'forceExtraction',\n",
       "   'type': 'BOOLEAN',\n",
       "   'condition': 'optional',\n",
       "   'description': 'If true, the extraction will be triggered no matter whether we know the recipe already. Use that only if information is missing as this operation is slower.',\n",
       "   'example': 'false'},\n",
       "  {'name': 'url',\n",
       "   'type': 'STRING',\n",
       "   'condition': 'required',\n",
       "   'description': 'The URL of the recipe page.',\n",
       "   'example': 'http://www.melskitchencafe.com/the-best-fudgy-brownies/'}],\n",
       " 'response': None}"
      ]
     },
     "execution_count": 180,
     "metadata": {},
     "output_type": "execute_result"
    }
   ],
   "source": [
    "all_info[3]"
   ]
  },
  {
   "cell_type": "code",
   "execution_count": 209,
   "metadata": {},
   "outputs": [],
   "source": []
  },
  {
   "cell_type": "code",
   "execution_count": 71,
   "metadata": {},
   "outputs": [],
   "source": [
    "max_width = 79\n",
    "def formatArgListAndPathFromURI(uri, format_for_tests=False):\n",
    "    regex = re.compile('(?!:format)(:[\\w_]+)', re.VERBOSE) \n",
    "    \n",
    "    # Identify the arguments to the URI, excluding :format\n",
    "    parameters = [s.strip(':') for s in regex.findall(uri) if s != '']\n",
    "    if format_for_tests:\n",
    "        arg_list = ''\n",
    "        for p in parameters:\n",
    "            arg_list += \"self.{p}, \".format(p=p)\n",
    "        if parameters:\n",
    "            arg_list = arg_list.strip(', ')\n",
    "    else:\n",
    "        arg_list = \", \".join(parameters)\n",
    "    \n",
    "    # Create the path string, allowing user to substitute in arguments\n",
    "    path = (regex.sub('{\\g<1>}', uri).split(':format')[0] + '\"').replace('{:','{')\n",
    "    print(path)\n",
    "    \n",
    "    # Make sure dates are formatted properly\n",
    "    if 'year' in parameters:\n",
    "        path = path.replace('{year}', '{year:4d}')\n",
    "    if 'month' in parameters:\n",
    "        path = path.replace('{month}', '{month:02d}')\n",
    "    if 'day' in parameters:\n",
    "        path = path.replace('{day}', '{day:02d}')        \n",
    "    \n",
    "    # Append .format() to the end of the path string\n",
    "    format_suffix = \"\"\n",
    "    for p in parameters:\n",
    "        format_suffix += \"{arg}={val}, \".format(arg=p, val=p)\n",
    "    format_suffix = \".format({})\".format(format_suffix.strip(', '))    \n",
    "    path += format_suffix\n",
    "#     path = path.split('/',3)[-1]\n",
    "    \n",
    "    # Comply to max width of lines\n",
    "    if len(path) > max_width-8:\n",
    "        regex = re.compile(r'\\.format\\(', re.VERBOSE)\n",
    "        path = regex.sub(r'.format(\\n\\t\\t\\t', path)        \n",
    "    path = '\"' + path\n",
    "    \n",
    "    return arg_list, path\n",
    "\n",
    "def formatPathFromURI(uri):\n",
    "    parameters = [s.strip(':') for s in re.findall(r'(:[\\w_]+)*', uri) if s != ''][:-1]\n",
    "\n",
    "def formatDocString(doc, mw=79):\n",
    "    if len(doc) > mw-7:\n",
    "        idx_cut = (mw-len(doc[mw::-1].split(' ')[0])) # kludge        \n",
    "        doc = doc[:idx_cut] + '\\n\\t\\t\\t' + formatDocString(doc[idx_cut:].strip(' '), mw)\n",
    "    return doc\n",
    "\n",
    "def paramValsAreComplete(endpoint):\n",
    "    for val in endpoint['defaults'].values():\n",
    "        if val == '':\n",
    "            return False\n",
    "    return True\n",
    "\n",
    "def formatDefaultParamVals(endpoints):\n",
    "    assert type(endpoints)==list, 'Must provide a list of endpoints'\n",
    "    varlist = ''\n",
    "    used_vars = []\n",
    "    \n",
    "    for ep in endpoints:\n",
    "        params = ep['parameters']\n",
    "        for param in params:\n",
    "            var,val = param['name'], param['example']            \n",
    "            if var not in used_vars and val != '':\n",
    "                if var in ['year', 'month', 'day']:                    \n",
    "                    varlist += '\\t\\tcls.{var} = {val}\\n'.format(var=var, val=int(val))\n",
    "                else:\n",
    "                    varlist += '\\t\\tcls.{var} = \"{val}\"\\n'.format(var=var, val=val)\n",
    "                used_vars.append(var)\n",
    "    return varlist\n",
    "\n",
    "def formatClassName(name):\n",
    "    name = name.replace(' Trial','').replace('Official','')\n",
    "    name = name.replace(' ','').replace('.','_').replace('(','')\n",
    "    name = name.replace(')','').replace('-','_').replace(',','_')\n",
    "    return name\n",
    "    \n",
    "def writeToPythonFile(api_info):\n",
    "    \"\"\"Write methods based on the endpoint attributes\n",
    "    :param api_info: (dict) Contains API name, description and list of endpoints\n",
    "    \"\"\"\n",
    "\n",
    "    # --------------------------------------------------------\n",
    "    #    Write the methods\n",
    "    # --------------------------------------------------------\n",
    "                \n",
    "    # Class name    \n",
    "    class_name = formatClassName(api_info['name'])\n",
    "    regex = re.compile(r'v[\\d_]+', re.IGNORECASE)\n",
    "    class_name = regex.sub('', class_name)\n",
    "        \n",
    "    # Add comment heading and import statement\n",
    "    txt = \"# Sportradar APIs\\n# Copyright 2018 John W. Miller\\n# See LICENSE for details.\\n\\n\"\n",
    "    txt += \"from sportradar.api import API\\n\\n\\n\"\n",
    "           \n",
    "    # Add class name to file   \n",
    "    txt += \"class {}(API):\\n\\n\".format(class_name)\n",
    "    \n",
    "    # Add __init__ function to class\n",
    "    txt += \"\\tdef __init__(self, api_key, format_='json', timeout=5, sleep_time=1.5):\\n\"\n",
    "    txt += \"\\t\\tsuper().__init__(api_key, format_, timeout, sleep_time)\\n\\n\"\n",
    "    txt = txt.replace('\\t', 4*' ')\n",
    "            \n",
    "    # Write the method, including arguments, doc string, and URI path    \n",
    "    endpoints = api_info['endpoints']    \n",
    "    for n,ep in enumerate(endpoints):\n",
    "        mn = 'get_' + formatClassName(ep['name']).lower()\n",
    "        doc = formatDocString(ep['description'], max_width)\n",
    "        doc = doc + '\"\"\"' if len(doc) < max_width-8 else doc + '\\n\\t\\t\"\"\"'\n",
    "        args, path = formatArgListAndPathFromURI(ep['uri'])                \n",
    "        arglist = 'self, {a}'.format(a=args) if args != '' else 'self'                \n",
    "        \n",
    "        # Assemble the method string\n",
    "        txt += '\\tdef {method_name}({args}):\\n'.format(method_name=mn, args=arglist)\n",
    "        txt += '\\t\\t\"\"\"{doc}\\n\\t\\tpath = {path}\\n'.format(doc=doc, path=path)\n",
    "        txt += '\\t\\treturn self._make_request(path)\\n\\n'\n",
    "        txt = txt.replace('\\t', 4*' ')\n",
    "                        \n",
    "    print('-'*20)\n",
    "    print(api_info['name'])\n",
    "#     print(path)\n",
    "#     print(txt)\n",
    "    \n",
    "    # Save to Python file\n",
    "    filename = class_name + '.py'\n",
    "    with open(filename, 'w+') as pyfile:\n",
    "        pyfile.write(txt)\n",
    "        \n",
    "        \n",
    "    # --------------------------------------------------------\n",
    "    #    Write the tests\n",
    "    # --------------------------------------------------------\n",
    "    \n",
    "    # Write the test front matter\n",
    "    txt = \"import os\\nimport unittest\\nfrom sportradar import {}\\n\\n\".format(class_name)\n",
    "    txt += '# Import API keys from environment variables\\n'\n",
    "    txt += 'api_key_name = \"SPORTRADAR_API_KEY_{}\"\\n'.format(class_name.upper())\n",
    "    txt += 'api_key = os.environ.get(api_key_name, None)\\n'\n",
    "    txt += 'assert api_key is not None, \"Must declare environment variable: {key_name}\".format(\\n'\n",
    "    txt += '\\tkey_name=api_key_name)\\n'\n",
    "    txt += 'api = {}.{}(api_key, format_=\"json\", timeout=5, sleep_time=1.5)\\n\\n\\n'.format(\n",
    "        class_name, class_name)\n",
    "    txt += 'class TestAPI(unittest.TestCase):\\n\\n'\n",
    "    txt += '    @classmethod\\n    def setUpClass(cls):\\n'\n",
    "    txt += '\\t\\tprint(\"\\\\n---------------------\\\\nSetting up {} tests...\\\\n\".format(\"{}\"))\\n'.format(\"{}\", class_name)\n",
    "    txt += '\\t\\tcls.auth = api_key\\n\\t\\tcls.api = api\\n'\n",
    "    txt += '{defaults}\\n'.format(defaults=formatDefaultParamVals(endpoints))\n",
    "       \n",
    "    # Write the test methods\n",
    "    # Write the method, including arguments, doc string, and URI path    \n",
    "    for n,ep in enumerate(endpoints):        \n",
    "        if paramValsAreComplete(ep):        \n",
    "            mn = 'test_get_' + formatClassName(ep['name']).lower()\n",
    "            doc = '\"\"\"Test the {} GET query\"\"\"'.format(ep['name'].lower())    \n",
    "            args, path = formatArgListAndPathFromURI(ep['uri'], format_for_tests=True)\n",
    "            arglist = '{a}'.format(a=args) if args != '' else ''\n",
    "            print(arglist)\n",
    "\n",
    "            # Assemble the method string    \n",
    "            txt += '\\tdef {method_name}(self):\\n\\t\\t{doc}\\n\\t\\tmsg = \"Response status is not 200\"\\n'.format(\n",
    "                    method_name=mn, doc=doc)\n",
    "            txt += '\\t\\tresponse = self.api.{}({})\\n'.format(\n",
    "                mn.split('test_')[1], arglist.split('self, ', 1)[-1])\n",
    "            \n",
    "            if n == len(endpoints)-1:            \n",
    "                txt += '\\t\\tself.assertEqual(response.status_code, 200, msg)\\n'\n",
    "            else:\n",
    "                txt += '\\t\\tself.assertEqual(response.status_code, 200, msg)\\n\\n'\n",
    "            txt = txt.replace('\\t', 4*' ')\n",
    "        \n",
    "    # Save to Python file\n",
    "    filename = 'test_' + class_name + '.py'\n",
    "    with open(filename, 'w+') as pyfile:\n",
    "        pyfile.write(txt)        \n"
   ]
  },
  {
   "cell_type": "code",
   "execution_count": null,
   "metadata": {},
   "outputs": [],
   "source": [
    "writeToPythonFile()"
   ]
  },
  {
   "cell_type": "code",
   "execution_count": null,
   "metadata": {},
   "outputs": [],
   "source": [
    "\n",
    "\n",
    "\n",
    "\n",
    "\n",
    "\n",
    "\n",
    "\n",
    "\n",
    "\n",
    "\n",
    "\n",
    "\n",
    "\n",
    "\n",
    "\n",
    "\n",
    "\n",
    "\n",
    "\n",
    "\n",
    "\n",
    "\n",
    "\n",
    "\n",
    "\n",
    "\n",
    "\n",
    "\n",
    "\n",
    "\n",
    "\n",
    "\n",
    "\n",
    "\n",
    "\n",
    "\n",
    "\n",
    "\n"
   ]
  }
 ],
 "metadata": {
  "kernelspec": {
   "display_name": "Python 3",
   "language": "python",
   "name": "python3"
  },
  "language_info": {
   "codemirror_mode": {
    "name": "ipython",
    "version": 3
   },
   "file_extension": ".py",
   "mimetype": "text/x-python",
   "name": "python",
   "nbconvert_exporter": "python",
   "pygments_lexer": "ipython3",
   "version": "3.6.5"
  }
 },
 "nbformat": 4,
 "nbformat_minor": 2
}
