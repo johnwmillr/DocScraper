{
 "cells": [
  {
   "cell_type": "markdown",
   "metadata": {},
   "source": [
    "---\n",
    "# Automatically generate new Python files from the Spoonacular API info page\n",
    "---"
   ]
  },
  {
   "cell_type": "code",
   "execution_count": 1,
   "metadata": {},
   "outputs": [],
   "source": [
    "import time\n",
    "import json\n",
    "import re\n",
    "from selenium import webdriver"
   ]
  },
  {
   "cell_type": "markdown",
   "metadata": {},
   "source": [
    "## Start the Selenium browser (Chrome)"
   ]
  },
  {
   "cell_type": "code",
   "execution_count": 3,
   "metadata": {},
   "outputs": [],
   "source": [
    "# Start a new instance of Chrome\n",
    "url = \"https://spoonacular.com/food-api\"\n",
    "browser = webdriver.Chrome()\n",
    "browser.get(url)"
   ]
  },
  {
   "cell_type": "code",
   "execution_count": 4,
   "metadata": {},
   "outputs": [],
   "source": [
    "mashape_doc = browser.find_element_by_class_name('mashape-doc')"
   ]
  },
  {
   "cell_type": "markdown",
   "metadata": {},
   "source": [
    "## Scrape documentation for each endpoint"
   ]
  },
  {
   "cell_type": "code",
   "execution_count": null,
   "metadata": {},
   "outputs": [],
   "source": [
    "default_params = dict(zip(param_names, param_values))\n",
    "\n",
    "endpoints.append({'name':name, 'uri': uri,\n",
    "      'description': description, 'defaults': default_params})\n",
    "print('-'*20)\n",
    "print(default_params)                \n",
    "print('{n}: {u}\\n{d}'.format(n=name, u=uri, d=description))        \n"
   ]
  },
  {
   "cell_type": "code",
   "execution_count": 142,
   "metadata": {},
   "outputs": [],
   "source": [
    "def getEndpointInfo():\n",
    "    endpoints = []\n",
    "    m,p = 'mashape-', 'parameter-'\n",
    "    doc = browser.find_element_by_class_name(m+'doc')\n",
    "    list_of_endpoints = doc.find_elements_by_class_name(m+'endpoint')\n",
    "    regex = re.compile(r'required|optional', re.VERBOSE)\n",
    "    \n",
    "    for ep in list_of_endpoints[:1]:\n",
    "        ep.click()\n",
    "#         time.sleep(2)\n",
    "        endpoint = {}\n",
    "        \n",
    "        # Get info on the endpoint name and route\n",
    "        endpoint['name'] = ep.find_element_by_class_name(m+'endpoint-name').text\n",
    "        content = ep.find_element_by_class_name(m+'endpoint-content')\n",
    "        print(content)\n",
    "\n",
    "        route = content.find_element_by_class_name(m+'endpoint-route').text.split(' /')\n",
    "        endpoint['method'] = route[0]\n",
    "        endpoint['uri'] = route[1]\n",
    "        \n",
    "        # Get info on the endpoint parameters\n",
    "        parameters = []\n",
    "        for param in params:\n",
    "            parameter = {}\n",
    "            for s in param.find_elements_by_tag_name('span'):\n",
    "                var = s.get_attribute('class').split(m+p,1)[-1].lower()\n",
    "                if 'condition' in var:\n",
    "                    var = 'condition'\n",
    "                    val = regex.search(cond).group()\n",
    "                elif 'example' in var:\n",
    "                    val = s.text.split('Example:',1)[-1]\n",
    "                else:\n",
    "                    val = s.text                    \n",
    "                parameter[var] = val\n",
    "            parameter['response'] = content.find_element_by_class_name(m+'example').text\n",
    "            print(parameter['name'])\n",
    "            parameters.append(parameter)\n",
    "            \n",
    "        # Add info on current endpoint to list of all endpoints\n",
    "        endpoints.append(endpoint)\n",
    "                \n",
    "    return endpoints                   "
   ]
  },
  {
   "cell_type": "code",
   "execution_count": 148,
   "metadata": {},
   "outputs": [],
   "source": [
    "r = content.find_element_by_class_name(m+'endpoint-route').text.split(' /')"
   ]
  },
  {
   "cell_type": "code",
   "execution_count": 143,
   "metadata": {},
   "outputs": [],
   "source": [
    "all_info = getEndpointInfo()"
   ]
  },
  {
   "cell_type": "code",
   "execution_count": 145,
   "metadata": {},
   "outputs": [
    {
     "data": {
      "text/plain": [
       "'GET /recipes/queries/analyze\\nRoute Parameters\\nq\\nSTRING (querystring) (required) The recipe search query.\\nExample:salmon with fusilli and no nuts\\nResponse Example\\n{\"ingredients\":[{\"name\":\"fusilli\",\"include\":true,\"image\":\"fusilli.jpg\"},{\"name\":\"nuts mixed\",\"include\":false,\"image\":\"nuts-mixed.jpg\"}],\"dishes\":[{\"name\":\"salmon\",\"image\":\"https://spoonacular.com/cdn/ingredients_100x100/salmon.jpg\"}],\"modifiers\":[],\"cuisines\":[]}'"
      ]
     },
     "execution_count": 145,
     "metadata": {},
     "output_type": "execute_result"
    }
   ],
   "source": [
    "all_info.text"
   ]
  },
  {
   "cell_type": "code",
   "execution_count": 131,
   "metadata": {},
   "outputs": [],
   "source": [
    "tags = ep.find_elements_by_tag_name('div')"
   ]
  },
  {
   "cell_type": "code",
   "execution_count": 132,
   "metadata": {},
   "outputs": [
    {
     "name": "stdout",
     "output_type": "stream",
     "text": [
      "GET /recipes/queries/analyze\n",
      "Route Parameters\n",
      "q\n",
      "STRING (querystring) (required) The recipe search query.\n",
      "Example:salmon with fusilli and no nuts\n",
      "Response Example\n",
      "{\"ingredients\":[{\"name\":\"fusilli\",\"include\":true,\"image\":\"fusilli.jpg\"},{\"name\":\"nuts mixed\",\"include\":false,\"image\":\"nuts-mixed.jpg\"}],\"dishes\":[{\"name\":\"salmon\",\"image\":\"https://spoonacular.com/cdn/ingredients_100x100/salmon.jpg\"}],\"modifiers\":[],\"cuisines\":[]}\n",
      "Route Parameters\n",
      "q\n",
      "STRING (querystring) (required) The recipe search query.\n",
      "Example:salmon with fusilli and no nuts\n",
      "Response Example\n"
     ]
    }
   ],
   "source": [
    "for tag in tags:\n",
    "    print(tag.text)"
   ]
  },
  {
   "cell_type": "code",
   "execution_count": 35,
   "metadata": {},
   "outputs": [],
   "source": [
    "params = content.find_elements_by_class_name(m+\"parameter\")"
   ]
  },
  {
   "cell_type": "code",
   "execution_count": 112,
   "metadata": {},
   "outputs": [
    {
     "name": "stdout",
     "output_type": "stream",
     "text": [
      "q\n"
     ]
    }
   ],
   "source": [
    "p = 'parameter-'\n",
    "parameters = []\n",
    "for param in params:\n",
    "    parameter = {}\n",
    "    for s in param.find_elements_by_tag_name('span'):\n",
    "        var = s.get_attribute('class').split(m+p,1)[-1].lower()\n",
    "        if 'condition' in var:\n",
    "            var = 'condition'\n",
    "            val = regex.search(cond).group()\n",
    "        elif 'example' in var:\n",
    "            val = s.text.split('Example:',1)[-1]\n",
    "        else:\n",
    "            val = s.text                    \n",
    "        parameter[var] = val\n",
    "    parameter['response'] = content.find_element_by_class_name(m+'example').text\n",
    "    print(parameter['name'])\n",
    "    parameters.append(parameter)"
   ]
  },
  {
   "cell_type": "code",
   "execution_count": 113,
   "metadata": {},
   "outputs": [
    {
     "data": {
      "text/plain": [
       "{'name': 'q',\n",
       " 'type': 'STRING',\n",
       " 'condition': 'required',\n",
       " 'description': 'The recipe search query.',\n",
       " 'example': 'salmon with fusilli and no nuts',\n",
       " 'response': '{\"ingredients\":[{\"name\":\"fusilli\",\"include\":true,\"image\":\"fusilli.jpg\"},{\"name\":\"nuts mixed\",\"include\":false,\"image\":\"nuts-mixed.jpg\"}],\"dishes\":[{\"name\":\"salmon\",\"image\":\"https://spoonacular.com/cdn/ingredients_100x100/salmon.jpg\"}],\"modifiers\":[],\"cuisines\":[]}'}"
      ]
     },
     "execution_count": 113,
     "metadata": {},
     "output_type": "execute_result"
    }
   ],
   "source": [
    "parameter"
   ]
  },
  {
   "cell_type": "code",
   "execution_count": 106,
   "metadata": {},
   "outputs": [
    {
     "name": "stdout",
     "output_type": "stream",
     "text": [
      "name: q\n",
      "type: STRING\n",
      "condition: (querystring) (required)\n",
      "description: The recipe search query.\n",
      "example: Example:salmon with fusilli and no nuts\n"
     ]
    }
   ],
   "source": [
    "for s in param.find_elements_by_tag_name('span'):\n",
    "    var = s.get_attribute('class').split(m+p,1)[-1]\n",
    "    var = 'condition' if 'condition' in var else var\n",
    "    print(var + \": \" + s.text)\n"
   ]
  },
  {
   "cell_type": "code",
   "execution_count": 78,
   "metadata": {},
   "outputs": [],
   "source": [
    "spans = param.find_elements_by_tag_name('span')"
   ]
  },
  {
   "cell_type": "code",
   "execution_count": 102,
   "metadata": {},
   "outputs": [],
   "source": [
    "s = spans[-1]"
   ]
  },
  {
   "cell_type": "code",
   "execution_count": 103,
   "metadata": {},
   "outputs": [
    {
     "data": {
      "text/plain": [
       "'Example:salmon with fusilli and no nuts'"
      ]
     },
     "execution_count": 103,
     "metadata": {},
     "output_type": "execute_result"
    }
   ],
   "source": [
    "s.text"
   ]
  },
  {
   "cell_type": "code",
   "execution_count": 92,
   "metadata": {},
   "outputs": [
    {
     "data": {
      "text/plain": [
       "'mashape-parameter-name'"
      ]
     },
     "execution_count": 92,
     "metadata": {},
     "output_type": "execute_result"
    }
   ],
   "source": [
    "s.get_attribute('class')"
   ]
  }
 ],
 "metadata": {
  "kernelspec": {
   "display_name": "Python 3",
   "language": "python",
   "name": "python3"
  },
  "language_info": {
   "codemirror_mode": {
    "name": "ipython",
    "version": 3
   },
   "file_extension": ".py",
   "mimetype": "text/x-python",
   "name": "python",
   "nbconvert_exporter": "python",
   "pygments_lexer": "ipython3",
   "version": "3.6.5"
  }
 },
 "nbformat": 4,
 "nbformat_minor": 2
}
